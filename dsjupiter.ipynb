{
 "cells": [
  {
   "cell_type": "markdown",
   "id": "9e67a0d4",
   "metadata": {},
   "source": [
    "# Data Science Tools and Ecosystem"
   ]
  },
  {
   "cell_type": "markdown",
   "id": "697721f5",
   "metadata": {},
   "source": [
    "In this notebook, Data Science Tools and Ecosystem are summarized."
   ]
  },
  {
   "cell_type": "markdown",
   "id": "840c406f",
   "metadata": {},
   "source": [
    "**Objectives:**\n",
    "\n",
    "* List popular languages for DS\n",
    "* List commonly used libraries by DS\n",
    "* List of tools for DS\n",
    "* Some examples of working in Jupyter Notebook"
   ]
  },
  {
   "cell_type": "markdown",
   "id": "d4d3b746",
   "metadata": {},
   "source": [
    "## Author\n",
    "Abutayev Zhanarys"
   ]
  },
  {
   "cell_type": "markdown",
   "id": "f28c4950",
   "metadata": {},
   "source": [
    "### Some of the popular languages that Data Scientists use are:"
   ]
  },
  {
   "cell_type": "markdown",
   "id": "06cea6ac",
   "metadata": {},
   "source": [
    "1. Python\n",
    "2. Java\n",
    "3. C++\n",
    "4. R"
   ]
  },
  {
   "cell_type": "markdown",
   "id": "be82e511",
   "metadata": {},
   "source": [
    "#### Some of the commonly used libraries used by Data Scientists include:\n",
    "\n",
    "* Numpy\n",
    "* Pandas\n",
    "* Matplotlib\n",
    "* Seaborn"
   ]
  },
  {
   "cell_type": "markdown",
   "id": "5bdcbd3b",
   "metadata": {},
   "source": [
    "\n",
    "| Data Science Tools |\n",
    "| ------ |\n",
    "| MySQL |\n",
    "| Anaconda |\n",
    "| Hadoop |"
   ]
  },
  {
   "cell_type": "markdown",
   "id": "b5623ff1",
   "metadata": {},
   "source": [
    "### Below are a few examples of evaluating arithmetic expressions in Python."
   ]
  },
  {
   "cell_type": "code",
   "execution_count": 3,
   "id": "5ae9e7f6",
   "metadata": {},
   "outputs": [
    {
     "data": {
      "text/plain": [
       "17"
      ]
     },
     "execution_count": 3,
     "metadata": {},
     "output_type": "execute_result"
    }
   ],
   "source": [
    "# This a simple arithmetic expression to multiply then add integers\n",
    "(3*4) + 5\n"
   ]
  },
  {
   "cell_type": "code",
   "execution_count": 4,
   "id": "90664cbf",
   "metadata": {},
   "outputs": [
    {
     "name": "stdout",
     "output_type": "stream",
     "text": [
      "3.3333333333333335 hours\n"
     ]
    }
   ],
   "source": [
    "# This will convert 200 minutes to hours by dividing by 60\n",
    "a = (200 / 60)\n",
    "print(a, \"hours\")"
   ]
  },
  {
   "cell_type": "code",
   "execution_count": null,
   "id": "450d9bd6",
   "metadata": {},
   "outputs": [],
   "source": []
  }
 ],
 "metadata": {
  "kernelspec": {
   "display_name": "Python 3 (ipykernel)",
   "language": "python",
   "name": "python3"
  },
  "language_info": {
   "codemirror_mode": {
    "name": "ipython",
    "version": 3
   },
   "file_extension": ".py",
   "mimetype": "text/x-python",
   "name": "python",
   "nbconvert_exporter": "python",
   "pygments_lexer": "ipython3",
   "version": "3.9.7"
  }
 },
 "nbformat": 4,
 "nbformat_minor": 5
}
